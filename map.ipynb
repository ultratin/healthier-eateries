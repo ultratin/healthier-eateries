{
 "cells": [
  {
   "cell_type": "code",
   "execution_count": 84,
   "metadata": {},
   "outputs": [],
   "source": [
    "import folium\n",
    "from folium.plugins import MarkerCluster\n",
    "\n",
    "import pandas as pd\n",
    "import feather\n",
    "\n",
    "import geocoder"
   ]
  },
  {
   "cell_type": "code",
   "execution_count": 45,
   "metadata": {},
   "outputs": [],
   "source": [
    "g = geocoder.ip('me')\n",
    "currentLat = g.lat\n",
    "currentLng = g.lng"
   ]
  },
  {
   "cell_type": "code",
   "execution_count": 53,
   "metadata": {},
   "outputs": [],
   "source": [
    "df = feather.read_dataframe(\"data_eateries.feather\")"
   ]
  },
  {
   "cell_type": "code",
   "execution_count": 69,
   "metadata": {},
   "outputs": [],
   "source": [
    "def colours(stars):\n",
    "    if stars <= 2:\n",
    "        return \"red\"\n",
    "    elif stars == 3:\n",
    "        return \"yellow\"\n",
    "    else:\n",
    "        return \"green\"\n"
   ]
  },
  {
   "cell_type": "code",
   "execution_count": 87,
   "metadata": {},
   "outputs": [],
   "source": [
    "lat = df['lat']\n",
    "lng = df['lon']\n",
    "name = df['NAME']\n",
    "rating = df['RATING']\n",
    "map = folium.Map(location=[currentLat,currentLng], zoom_start = 16, tiles= \"CartoDB dark_matter\")\n",
    "\n",
    "folium.Marker(location=[currentLat,currentLng], popup=\"Current location\", icon=folium.Icon(color = 'blue')).add_to(map)\n",
    "\n",
    "#Create Cluster\n",
    "marker_cluster = MarkerCluster().add_to(map)\n",
    "\n",
    "\n",
    "for lat, lng, name,rating in zip(lat, lng, name, rating):\n",
    "    folium.Marker(location=[lat,lng], popup=f\"<strong>Name</strong>: {name}<br> <strong>Rating</strong>: {rating}\", icon=folium.Icon(color = colours(rating))).add_to(marker_cluster)\n",
    "\n",
    "map.save(\"map1.html\")"
   ]
  }
 ],
 "metadata": {
  "kernelspec": {
   "display_name": "Python 3",
   "language": "python",
   "name": "python3"
  },
  "language_info": {
   "codemirror_mode": {
    "name": "ipython",
    "version": 3
   },
   "file_extension": ".py",
   "mimetype": "text/x-python",
   "name": "python",
   "nbconvert_exporter": "python",
   "pygments_lexer": "ipython3",
   "version": "3.6.5"
  }
 },
 "nbformat": 4,
 "nbformat_minor": 2
}
